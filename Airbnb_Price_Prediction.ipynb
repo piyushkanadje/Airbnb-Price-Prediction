{
  "nbformat": 4,
  "nbformat_minor": 0,
  "metadata": {
    "colab": {
      "provenance": [],
      "collapsed_sections": [],
      "include_colab_link": true
    },
    "kernelspec": {
      "name": "python3",
      "display_name": "Python 3"
    },
    "language_info": {
      "name": "python"
    },
    "accelerator": "TPU",
    "gpuClass": "standard"
  },
  "cells": [
    {
      "cell_type": "markdown",
      "metadata": {
        "id": "view-in-github",
        "colab_type": "text"
      },
      "source": [
        "<a href=\"https://colab.research.google.com/github/piyushkanadje/Airbnb-Price-Prediction/blob/main/Airbnb_Price_Prediction.ipynb\" target=\"_parent\"><img src=\"https://colab.research.google.com/assets/colab-badge.svg\" alt=\"Open In Colab\"/></a>"
      ]
    },
    {
      "cell_type": "code",
      "source": [
        "from google.colab import drive \n",
        "drive.mount('/content/gdrive')"
      ],
      "metadata": {
        "colab": {
          "base_uri": "https://localhost:8080/"
        },
        "id": "2MG6Qo2O_v5J",
        "outputId": "21387e7d-01b2-4ad5-97ed-e4d41bc88fc3"
      },
      "execution_count": 1,
      "outputs": [
        {
          "output_type": "stream",
          "name": "stdout",
          "text": [
            "Mounted at /content/gdrive\n"
          ]
        }
      ]
    },
    {
      "cell_type": "markdown",
      "source": [
        "**Dataset**\n",
        "https://www.kaggle.com/datasets/sandeepmajumdar/airbnbnyccleaned\n",
        "\n",
        "\n",
        "**Evaluation**\n",
        "https://towardsdatascience.com/comparing-robustness-of-mae-mse-and-rmse-6d69da870828\n",
        "\n",
        "1.   MAE\n",
        "2.   MSE\n",
        "3.   RMSE\n",
        "\n",
        "**Proposed**\n",
        "\n",
        "1. Random Forest \n",
        "2. Ridge Regression\n",
        "3. Neural Network Regression \n",
        "4. Lasso Regression\n",
        "5. Gaussian\n",
        "6. Polynomial\n",
        "7. SVM \n",
        "\n"
      ],
      "metadata": {
        "id": "dp9Lf9PtpTnw"
      }
    },
    {
      "cell_type": "code",
      "source": [
        "!apt-get update\n",
        "!apt-get install openjdk-8-jdk-headless -qq > /dev/null"
      ],
      "metadata": {
        "id": "i1-Bm7c1CJhd",
        "colab": {
          "base_uri": "https://localhost:8080/"
        },
        "outputId": "66d8821f-6ec5-4602-916a-e69d0ff41296"
      },
      "execution_count": 2,
      "outputs": [
        {
          "output_type": "stream",
          "name": "stdout",
          "text": [
            "\r0% [Working]\r            \rHit:1 http://archive.ubuntu.com/ubuntu bionic InRelease\n",
            "\r0% [Waiting for headers] [Connecting to security.ubuntu.com] [Connected to clou\r                                                                               \rGet:2 http://archive.ubuntu.com/ubuntu bionic-updates InRelease [88.7 kB]\n",
            "\r                                                                               \rGet:3 https://cloud.r-project.org/bin/linux/ubuntu bionic-cran40/ InRelease [3,626 B]\n",
            "\r0% [2 InRelease 21.4 kB/88.7 kB 24%] [Connecting to security.ubuntu.com] [Conne\r0% [1 InRelease gpgv 242 kB] [2 InRelease 21.4 kB/88.7 kB 24%] [Connecting to s\r0% [1 InRelease gpgv 242 kB] [Waiting for headers] [Connecting to security.ubun\r                                                                               \rGet:4 http://archive.ubuntu.com/ubuntu bionic-backports InRelease [83.3 kB]\n",
            "Get:5 http://security.ubuntu.com/ubuntu bionic-security InRelease [88.7 kB]\n",
            "Ign:6 https://developer.download.nvidia.com/compute/machine-learning/repos/ubuntu1804/x86_64  InRelease\n",
            "Get:7 http://ppa.launchpad.net/c2d4u.team/c2d4u4.0+/ubuntu bionic InRelease [15.9 kB]\n",
            "Get:8 https://developer.download.nvidia.com/compute/cuda/repos/ubuntu1804/x86_64  InRelease [1,581 B]\n",
            "Hit:9 https://developer.download.nvidia.com/compute/machine-learning/repos/ubuntu1804/x86_64  Release\n",
            "Hit:10 http://ppa.launchpad.net/cran/libgit2/ubuntu bionic InRelease\n",
            "Get:11 https://cloud.r-project.org/bin/linux/ubuntu bionic-cran40/ Packages [98.9 kB]\n",
            "Get:12 http://ppa.launchpad.net/deadsnakes/ppa/ubuntu bionic InRelease [15.9 kB]\n",
            "Get:13 http://archive.ubuntu.com/ubuntu bionic-updates/main amd64 Packages [3,472 kB]\n",
            "Hit:14 http://ppa.launchpad.net/graphics-drivers/ppa/ubuntu bionic InRelease\n",
            "Get:15 http://archive.ubuntu.com/ubuntu bionic-updates/universe amd64 Packages [2,332 kB]\n",
            "Get:16 http://archive.ubuntu.com/ubuntu bionic-updates/restricted amd64 Packages [1,267 kB]\n",
            "Get:17 http://security.ubuntu.com/ubuntu bionic-security/universe amd64 Packages [1,554 kB]\n",
            "Get:18 http://security.ubuntu.com/ubuntu bionic-security/restricted amd64 Packages [1,226 kB]\n",
            "Get:19 http://security.ubuntu.com/ubuntu bionic-security/main amd64 Packages [3,040 kB]\n",
            "Get:20 https://developer.download.nvidia.com/compute/cuda/repos/ubuntu1804/x86_64  Packages [992 kB]\n",
            "Get:22 http://ppa.launchpad.net/c2d4u.team/c2d4u4.0+/ubuntu bionic/main Sources [2,216 kB]\n",
            "Get:23 http://ppa.launchpad.net/c2d4u.team/c2d4u4.0+/ubuntu bionic/main amd64 Packages [1,133 kB]\n",
            "Fetched 17.6 MB in 4s (4,734 kB/s)\n",
            "Reading package lists... Done\n"
          ]
        }
      ]
    },
    {
      "cell_type": "code",
      "source": [
        "!wget -q https://dlcdn.apache.org/spark/spark-3.3.1/spark-3.3.1-bin-hadoop3.tgz"
      ],
      "metadata": {
        "id": "1W-TPICpEDBi"
      },
      "execution_count": 3,
      "outputs": []
    },
    {
      "cell_type": "code",
      "source": [
        "!tar xf spark-3.3.1-bin-hadoop3.tgz\n"
      ],
      "metadata": {
        "id": "1BfUjp8wEGGc"
      },
      "execution_count": 4,
      "outputs": []
    },
    {
      "cell_type": "code",
      "source": [
        "!pip install -q findspark"
      ],
      "metadata": {
        "id": "KV4qUVOQEJqE"
      },
      "execution_count": 5,
      "outputs": []
    },
    {
      "cell_type": "code",
      "source": [
        "import os\n",
        "os.environ[\"JAVA_HOME\"] = \"/usr/lib/jvm/java-8-openjdk-amd64\"\n",
        "os.environ[\"SPARK_HOME\"] = \"/content/spark-3.3.1-bin-hadoop3\""
      ],
      "metadata": {
        "id": "Wp-iIIdDEMIA"
      },
      "execution_count": 6,
      "outputs": []
    },
    {
      "cell_type": "code",
      "source": [
        "import findspark\n",
        "findspark.init()"
      ],
      "metadata": {
        "id": "1ODa8uY3EOlU"
      },
      "execution_count": 7,
      "outputs": []
    },
    {
      "cell_type": "code",
      "source": [
        "from pyspark.sql import SparkSession"
      ],
      "metadata": {
        "id": "3SQR_1YAFicd"
      },
      "execution_count": 8,
      "outputs": []
    },
    {
      "cell_type": "code",
      "source": [
        "spark = SparkSession.builder\\\n",
        "        .master(\"local\")\\\n",
        "        .appName(\"Colab\")\\\n",
        "        .config('spark.ui.port', '4050')\\\n",
        "        .getOrCreate()"
      ],
      "metadata": {
        "id": "LCRZauJoFjKG"
      },
      "execution_count": 9,
      "outputs": []
    },
    {
      "cell_type": "code",
      "source": [
        "spark=SparkSession.builder.appName(\"Basics\").getOrCreate()"
      ],
      "metadata": {
        "id": "FCq-Ny8XFpqP"
      },
      "execution_count": 10,
      "outputs": []
    },
    {
      "cell_type": "code",
      "source": [
        "df=spark.read.option(\"delimiter\",\",\").option(\"header\",True).csv(\"/content/gdrive/MyDrive/DATA MINING/airbnb_nyc_clean_compressed.csv\")"
      ],
      "metadata": {
        "id": "0JoaKpovFwCR"
      },
      "execution_count": 11,
      "outputs": []
    },
    {
      "cell_type": "code",
      "source": [
        " from IPython.display import display"
      ],
      "metadata": {
        "id": "WdORpFoeFwEk"
      },
      "execution_count": 12,
      "outputs": []
    },
    {
      "cell_type": "code",
      "source": [
        "spark.conf.set(\"spark.sql.repl.eagerEval.enabled\", True)"
      ],
      "metadata": {
        "id": "yJdFAr8xF-Tt"
      },
      "execution_count": 13,
      "outputs": []
    },
    {
      "cell_type": "code",
      "source": [
        "df"
      ],
      "metadata": {
        "id": "lBlqGz7DF__2",
        "colab": {
          "base_uri": "https://localhost:8080/",
          "height": 908
        },
        "outputId": "c69b9f8e-e50e-4664-dda3-2dfc4ca5a581"
      },
      "execution_count": 14,
      "outputs": [
        {
          "output_type": "execute_result",
          "data": {
            "text/plain": [
              "+-------+--------------------+-----------+----------------------+---------+-------------------+------------------+--------+---------+----------------+-------------------+---------------+-----------------+------+------------------+--------------+-----------------+-----------+-----------------+------------------+------------------------------+----------------+--------------------+\n",
              "|     id|                name|    host_id|host_identity_verified|host_name|neighbourhood_group|     neighbourhood|     lat|     long|instant_bookable|cancellation_policy|      room_type|construction_year| price|       service_fee|minimum_nights|number_of_reviews|last_review|reviews_per_month|review_rate_number|calculated_host_listings_count|availability_365|         house_rules|\n",
              "+-------+--------------------+-----------+----------------------+---------+-------------------+------------------+--------+---------+----------------+-------------------+---------------+-----------------+------+------------------+--------------+-----------------+-----------+-----------------+------------------+------------------------------+----------------+--------------------+\n",
              "|1001254|Clean & quiet apt...|80014485718|           unconfirmed| Madaline|           Brooklyn|        Kensington|40.64749|-73.97237|           False|             strict|   Private room|           2020.0| 966.0|             193.0|          10.0|              9.0| 2021-10-19|             0.21|               4.0|                           6.0|           286.0|Clean up and trea...|\n",
              "|1002102|Skylit Midtown Ca...|52335172823|              verified|    Jenna|          Manhattan|           Midtown|40.75362|-73.98377|           False|           moderate|Entire home/apt|           2007.0| 142.0|              28.0|          13.0|             45.0| 2022-05-21|             0.38|               4.0|                           2.0|           228.0|Pet friendly but ...|\n",
              "|1002403|THE VILLAGE OF HA...|78829239556|           unconfirmed|    Elise|          Manhattan|            Harlem|40.80902| -73.9419|            True|           flexible|   Private room|           2005.0| 620.0|             124.0|           3.0|              0.0| 2019-06-14|             0.79|               5.0|                           1.0|           352.0|I encourage you t...|\n",
              "|1002755|               blank|85098326012|           unconfirmed|    Garry|           Brooklyn|      Clinton Hill|40.68514|-73.95976|            True|           moderate|Entire home/apt|           2005.0| 368.0|              74.0|          13.0|            270.0| 2019-07-05|             4.64|               4.0|                           1.0|           322.0|               blank|\n",
              "|1003689|Entire Apt: Spaci...|92037596077|              verified|   Lyndon|          Manhattan|       East Harlem|40.79851|-73.94399|           False|           moderate|Entire home/apt|           2009.0| 204.0|              41.0|          10.0|              9.0| 2018-11-19|              0.1|               3.0|                           1.0|           289.0|Please no smoking...|\n",
              "|1004098|Large Cozy 1 BR A...|45498551794|              verified| Michelle|          Manhattan|       Murray Hill|40.74767|  -73.975|            True|           flexible|Entire home/apt|           2013.0| 577.0|             115.0|           3.0|             74.0| 2019-06-22|             0.59|               3.0|                           1.0|           374.0|No smoking, pleas...|\n",
              "|1004650|     BlissArtsSpace!|61300605564|           unconfirmed|  Alberta|           Brooklyn|Bedford-Stuyvesant|40.68688|-73.95596|           False|           moderate|   Private room|           2015.0|  71.0|              14.0|          13.0|             49.0| 2017-10-05|              0.4|               5.0|                           1.0|           224.0|Please no shoes i...|\n",
              "|1005202|     BlissArtsSpace!|90821839709|           unconfirmed|     Emma|           Brooklyn|Bedford-Stuyvesant|40.68688|-73.95596|           False|           moderate|   Private room|           2009.0|1060.0|             212.0|          13.0|             49.0| 2017-10-05|              0.4|               5.0|                           1.0|           219.0|House Guidelines ...|\n",
              "|1005754|Large Furnished R...|79384379533|              verified|   Evelyn|          Manhattan|    Hell's Kitchen|40.76489|-73.98493|            True|             strict|   Private room|           2005.0|1018.0|             204.0|           2.0|            430.0| 2019-06-24|             3.47|               3.0|                           1.0|           180.0|- Please clean up...|\n",
              "|1006307|Cozy Clean Guest ...|75527839483|           unconfirmed|     Carl|          Manhattan|   Upper West Side|40.80178|-73.96723|           False|             strict|   Private room|           2015.0| 291.0|              58.0|           2.0|            118.0| 2017-07-21|             0.99|               5.0|                           1.0|           375.0|NO SMOKING OR PET...|\n",
              "|1006859|Cute & Cozy Lower...| 1280143094|              verified|  Miranda|          Manhattan|         Chinatown|40.71344|-73.99037|           False|           flexible|Entire home/apt|           2004.0| 319.0|              64.0|           1.0|            160.0| 2019-06-09|             1.33|               3.0|                           4.0|             1.0|               blank|\n",
              "|1007411|Beautiful 1br on ...|18824631834|              verified|     Alan|          Manhattan|   Upper West Side|40.80316|-73.96545|            True|           flexible|Entire home/apt|           2008.0| 606.0|             121.0|           5.0|             53.0| 2019-06-22|             0.43|               4.0|                           1.0|           163.0|My ideal guests w...|\n",
              "|1007964|Central Manhattan...|88136055909|              verified|    blank|          Manhattan|    Hell's Kitchen|40.76076|-73.98867|           False|             strict|   Private room|           2008.0| 714.0|             143.0|           2.0|            188.0| 2019-06-23|              1.5|               4.0|                           1.0|           258.0|- One of the bedr...|\n",
              "|1008516|Lovely Room 1, Ga...|26802410424|              verified|    Darcy|           Brooklyn|       South Slope|40.66829|-73.98779|            True|           moderate|   Private room|           2010.0| 580.0|             116.0|           4.0|            167.0| 2019-06-24|             1.34|               4.0|                           3.0|            47.0|               blank|\n",
              "|1009068|Wonderful Guest B...|88920244552|              verified| Leonardo|          Manhattan|   Upper West Side|40.79826|-73.96113|           False|           flexible|   Private room|           2019.0| 149.0|              30.0|           2.0|            113.0| 2019-07-05|             0.91|               3.0|                           1.0|            68.0|               blank|\n",
              "|1009621|West Village Nest...|46551725984|              verified|   Daniel|          Manhattan|      West Village| 40.7353|-74.00525|            True|           flexible|Entire home/apt|           2018.0| 578.0|124.89402583111317|          13.0|             27.0| 2018-10-31|             0.22|               3.0|                           1.0|           100.0|Arrival time can ...|\n",
              "|1010173|Only 2 stops to M...|62566345680|           unconfirmed|  Heather|           Brooklyn|      Williamsburg|40.70837|-73.95352|            True|           moderate|Entire home/apt|           2009.0| 778.0|124.89402583111317|           2.0|            148.0| 2019-06-29|              1.2|               3.0|                           1.0|           197.0|Absolutely no smo...|\n",
              "|1010725|Perfect for Your ...|80380130347|              verified|     Ryan|           Brooklyn|       Fort Greene|40.69169|-73.97185|            True|           flexible|Entire home/apt|           2006.0| 656.0|124.89402583111317|           2.0|            198.0| 2019-06-28|             1.72|               5.0|                           1.0|            96.0|- Please be mindf...|\n",
              "|1011277|     Chelsea Perfect|73862528370|              verified|  Alberta|          Manhattan|           Chelsea|40.74192|-73.99501|            True|           moderate|   Private room|           2008.0| 460.0|124.89402583111317|           1.0|            260.0| 2019-07-01|             2.12|               3.0|                           1.0|           325.0|               blank|\n",
              "|1011830|Hip Historic Brow...|72145018858|           unconfirmed|   Martin|           Brooklyn|     Crown Heights|40.67592|-73.94694|            True|           moderate|Entire home/apt|           2004.0|1095.0|124.89402583111317|           3.0|             53.0| 2019-06-22|             4.44|               5.0|                           1.0|           345.0|LAUNDRY - Laundry...|\n",
              "+-------+--------------------+-----------+----------------------+---------+-------------------+------------------+--------+---------+----------------+-------------------+---------------+-----------------+------+------------------+--------------+-----------------+-----------+-----------------+------------------+------------------------------+----------------+--------------------+\n",
              "only showing top 20 rows"
            ],
            "text/html": [
              "<table border='1'>\n",
              "<tr><th>id</th><th>name</th><th>host_id</th><th>host_identity_verified</th><th>host_name</th><th>neighbourhood_group</th><th>neighbourhood</th><th>lat</th><th>long</th><th>instant_bookable</th><th>cancellation_policy</th><th>room_type</th><th>construction_year</th><th>price</th><th>service_fee</th><th>minimum_nights</th><th>number_of_reviews</th><th>last_review</th><th>reviews_per_month</th><th>review_rate_number</th><th>calculated_host_listings_count</th><th>availability_365</th><th>house_rules</th></tr>\n",
              "<tr><td>1001254</td><td>Clean &amp; quiet apt...</td><td>80014485718</td><td>unconfirmed</td><td>Madaline</td><td>Brooklyn</td><td>Kensington</td><td>40.64749</td><td>-73.97237</td><td>False</td><td>strict</td><td>Private room</td><td>2020.0</td><td>966.0</td><td>193.0</td><td>10.0</td><td>9.0</td><td>2021-10-19</td><td>0.21</td><td>4.0</td><td>6.0</td><td>286.0</td><td>Clean up and trea...</td></tr>\n",
              "<tr><td>1002102</td><td>Skylit Midtown Ca...</td><td>52335172823</td><td>verified</td><td>Jenna</td><td>Manhattan</td><td>Midtown</td><td>40.75362</td><td>-73.98377</td><td>False</td><td>moderate</td><td>Entire home/apt</td><td>2007.0</td><td>142.0</td><td>28.0</td><td>13.0</td><td>45.0</td><td>2022-05-21</td><td>0.38</td><td>4.0</td><td>2.0</td><td>228.0</td><td>Pet friendly but ...</td></tr>\n",
              "<tr><td>1002403</td><td>THE VILLAGE OF HA...</td><td>78829239556</td><td>unconfirmed</td><td>Elise</td><td>Manhattan</td><td>Harlem</td><td>40.80902</td><td>-73.9419</td><td>True</td><td>flexible</td><td>Private room</td><td>2005.0</td><td>620.0</td><td>124.0</td><td>3.0</td><td>0.0</td><td>2019-06-14</td><td>0.79</td><td>5.0</td><td>1.0</td><td>352.0</td><td>I encourage you t...</td></tr>\n",
              "<tr><td>1002755</td><td>blank</td><td>85098326012</td><td>unconfirmed</td><td>Garry</td><td>Brooklyn</td><td>Clinton Hill</td><td>40.68514</td><td>-73.95976</td><td>True</td><td>moderate</td><td>Entire home/apt</td><td>2005.0</td><td>368.0</td><td>74.0</td><td>13.0</td><td>270.0</td><td>2019-07-05</td><td>4.64</td><td>4.0</td><td>1.0</td><td>322.0</td><td>blank</td></tr>\n",
              "<tr><td>1003689</td><td>Entire Apt: Spaci...</td><td>92037596077</td><td>verified</td><td>Lyndon</td><td>Manhattan</td><td>East Harlem</td><td>40.79851</td><td>-73.94399</td><td>False</td><td>moderate</td><td>Entire home/apt</td><td>2009.0</td><td>204.0</td><td>41.0</td><td>10.0</td><td>9.0</td><td>2018-11-19</td><td>0.1</td><td>3.0</td><td>1.0</td><td>289.0</td><td>Please no smoking...</td></tr>\n",
              "<tr><td>1004098</td><td>Large Cozy 1 BR A...</td><td>45498551794</td><td>verified</td><td>Michelle</td><td>Manhattan</td><td>Murray Hill</td><td>40.74767</td><td>-73.975</td><td>True</td><td>flexible</td><td>Entire home/apt</td><td>2013.0</td><td>577.0</td><td>115.0</td><td>3.0</td><td>74.0</td><td>2019-06-22</td><td>0.59</td><td>3.0</td><td>1.0</td><td>374.0</td><td>No smoking, pleas...</td></tr>\n",
              "<tr><td>1004650</td><td>BlissArtsSpace!</td><td>61300605564</td><td>unconfirmed</td><td>Alberta</td><td>Brooklyn</td><td>Bedford-Stuyvesant</td><td>40.68688</td><td>-73.95596</td><td>False</td><td>moderate</td><td>Private room</td><td>2015.0</td><td>71.0</td><td>14.0</td><td>13.0</td><td>49.0</td><td>2017-10-05</td><td>0.4</td><td>5.0</td><td>1.0</td><td>224.0</td><td>Please no shoes i...</td></tr>\n",
              "<tr><td>1005202</td><td>BlissArtsSpace!</td><td>90821839709</td><td>unconfirmed</td><td>Emma</td><td>Brooklyn</td><td>Bedford-Stuyvesant</td><td>40.68688</td><td>-73.95596</td><td>False</td><td>moderate</td><td>Private room</td><td>2009.0</td><td>1060.0</td><td>212.0</td><td>13.0</td><td>49.0</td><td>2017-10-05</td><td>0.4</td><td>5.0</td><td>1.0</td><td>219.0</td><td>House Guidelines ...</td></tr>\n",
              "<tr><td>1005754</td><td>Large Furnished R...</td><td>79384379533</td><td>verified</td><td>Evelyn</td><td>Manhattan</td><td>Hell&#x27;s Kitchen</td><td>40.76489</td><td>-73.98493</td><td>True</td><td>strict</td><td>Private room</td><td>2005.0</td><td>1018.0</td><td>204.0</td><td>2.0</td><td>430.0</td><td>2019-06-24</td><td>3.47</td><td>3.0</td><td>1.0</td><td>180.0</td><td>- Please clean up...</td></tr>\n",
              "<tr><td>1006307</td><td>Cozy Clean Guest ...</td><td>75527839483</td><td>unconfirmed</td><td>Carl</td><td>Manhattan</td><td>Upper West Side</td><td>40.80178</td><td>-73.96723</td><td>False</td><td>strict</td><td>Private room</td><td>2015.0</td><td>291.0</td><td>58.0</td><td>2.0</td><td>118.0</td><td>2017-07-21</td><td>0.99</td><td>5.0</td><td>1.0</td><td>375.0</td><td>NO SMOKING OR PET...</td></tr>\n",
              "<tr><td>1006859</td><td>Cute &amp; Cozy Lower...</td><td>1280143094</td><td>verified</td><td>Miranda</td><td>Manhattan</td><td>Chinatown</td><td>40.71344</td><td>-73.99037</td><td>False</td><td>flexible</td><td>Entire home/apt</td><td>2004.0</td><td>319.0</td><td>64.0</td><td>1.0</td><td>160.0</td><td>2019-06-09</td><td>1.33</td><td>3.0</td><td>4.0</td><td>1.0</td><td>blank</td></tr>\n",
              "<tr><td>1007411</td><td>Beautiful 1br on ...</td><td>18824631834</td><td>verified</td><td>Alan</td><td>Manhattan</td><td>Upper West Side</td><td>40.80316</td><td>-73.96545</td><td>True</td><td>flexible</td><td>Entire home/apt</td><td>2008.0</td><td>606.0</td><td>121.0</td><td>5.0</td><td>53.0</td><td>2019-06-22</td><td>0.43</td><td>4.0</td><td>1.0</td><td>163.0</td><td>My ideal guests w...</td></tr>\n",
              "<tr><td>1007964</td><td>Central Manhattan...</td><td>88136055909</td><td>verified</td><td>blank</td><td>Manhattan</td><td>Hell&#x27;s Kitchen</td><td>40.76076</td><td>-73.98867</td><td>False</td><td>strict</td><td>Private room</td><td>2008.0</td><td>714.0</td><td>143.0</td><td>2.0</td><td>188.0</td><td>2019-06-23</td><td>1.5</td><td>4.0</td><td>1.0</td><td>258.0</td><td>- One of the bedr...</td></tr>\n",
              "<tr><td>1008516</td><td>Lovely Room 1, Ga...</td><td>26802410424</td><td>verified</td><td>Darcy</td><td>Brooklyn</td><td>South Slope</td><td>40.66829</td><td>-73.98779</td><td>True</td><td>moderate</td><td>Private room</td><td>2010.0</td><td>580.0</td><td>116.0</td><td>4.0</td><td>167.0</td><td>2019-06-24</td><td>1.34</td><td>4.0</td><td>3.0</td><td>47.0</td><td>blank</td></tr>\n",
              "<tr><td>1009068</td><td>Wonderful Guest B...</td><td>88920244552</td><td>verified</td><td>Leonardo</td><td>Manhattan</td><td>Upper West Side</td><td>40.79826</td><td>-73.96113</td><td>False</td><td>flexible</td><td>Private room</td><td>2019.0</td><td>149.0</td><td>30.0</td><td>2.0</td><td>113.0</td><td>2019-07-05</td><td>0.91</td><td>3.0</td><td>1.0</td><td>68.0</td><td>blank</td></tr>\n",
              "<tr><td>1009621</td><td>West Village Nest...</td><td>46551725984</td><td>verified</td><td>Daniel</td><td>Manhattan</td><td>West Village</td><td>40.7353</td><td>-74.00525</td><td>True</td><td>flexible</td><td>Entire home/apt</td><td>2018.0</td><td>578.0</td><td>124.89402583111317</td><td>13.0</td><td>27.0</td><td>2018-10-31</td><td>0.22</td><td>3.0</td><td>1.0</td><td>100.0</td><td>Arrival time can ...</td></tr>\n",
              "<tr><td>1010173</td><td>Only 2 stops to M...</td><td>62566345680</td><td>unconfirmed</td><td>Heather</td><td>Brooklyn</td><td>Williamsburg</td><td>40.70837</td><td>-73.95352</td><td>True</td><td>moderate</td><td>Entire home/apt</td><td>2009.0</td><td>778.0</td><td>124.89402583111317</td><td>2.0</td><td>148.0</td><td>2019-06-29</td><td>1.2</td><td>3.0</td><td>1.0</td><td>197.0</td><td>Absolutely no smo...</td></tr>\n",
              "<tr><td>1010725</td><td>Perfect for Your ...</td><td>80380130347</td><td>verified</td><td>Ryan</td><td>Brooklyn</td><td>Fort Greene</td><td>40.69169</td><td>-73.97185</td><td>True</td><td>flexible</td><td>Entire home/apt</td><td>2006.0</td><td>656.0</td><td>124.89402583111317</td><td>2.0</td><td>198.0</td><td>2019-06-28</td><td>1.72</td><td>5.0</td><td>1.0</td><td>96.0</td><td>- Please be mindf...</td></tr>\n",
              "<tr><td>1011277</td><td>Chelsea Perfect</td><td>73862528370</td><td>verified</td><td>Alberta</td><td>Manhattan</td><td>Chelsea</td><td>40.74192</td><td>-73.99501</td><td>True</td><td>moderate</td><td>Private room</td><td>2008.0</td><td>460.0</td><td>124.89402583111317</td><td>1.0</td><td>260.0</td><td>2019-07-01</td><td>2.12</td><td>3.0</td><td>1.0</td><td>325.0</td><td>blank</td></tr>\n",
              "<tr><td>1011830</td><td>Hip Historic Brow...</td><td>72145018858</td><td>unconfirmed</td><td>Martin</td><td>Brooklyn</td><td>Crown Heights</td><td>40.67592</td><td>-73.94694</td><td>True</td><td>moderate</td><td>Entire home/apt</td><td>2004.0</td><td>1095.0</td><td>124.89402583111317</td><td>3.0</td><td>53.0</td><td>2019-06-22</td><td>4.44</td><td>5.0</td><td>1.0</td><td>345.0</td><td>LAUNDRY - Laundry...</td></tr>\n",
              "</table>\n",
              "only showing top 20 rows\n"
            ]
          },
          "metadata": {},
          "execution_count": 14
        }
      ]
    },
    {
      "cell_type": "code",
      "source": [
        "df.registerTempTable(\"airbnb\")"
      ],
      "metadata": {
        "id": "KzGRmgNsGAc9",
        "colab": {
          "base_uri": "https://localhost:8080/"
        },
        "outputId": "b169c52d-3f34-4c39-a96d-c18151ffa7c9"
      },
      "execution_count": 15,
      "outputs": [
        {
          "output_type": "stream",
          "name": "stderr",
          "text": [
            "/content/spark-3.3.1-bin-hadoop3/python/pyspark/sql/dataframe.py:229: FutureWarning: Deprecated in 2.0, use createOrReplaceTempView instead.\n",
            "  warnings.warn(\"Deprecated in 2.0, use createOrReplaceTempView instead.\", FutureWarning)\n"
          ]
        }
      ]
    },
    {
      "cell_type": "markdown",
      "source": [
        "\n",
        "**neighbourhood_group ,\n",
        "neighbourhood ,\n",
        "lat ,\n",
        "long ,\n",
        "instant_bookable ,\n",
        "cancellation_policy ,\n",
        "room_type ,\n",
        "construction_year ,\n",
        "service_fee ,\n",
        "minimum_nights ,\n",
        "availability_365**\n"
      ],
      "metadata": {
        "id": "SvLcOJ2HtojF"
      }
    },
    {
      "cell_type": "code",
      "source": [
        "df_filter=spark.sql(\"\"\"select name ,\n",
        "neighbourhood_group ,\n",
        "neighbourhood ,\n",
        "lat ,\n",
        "long ,\n",
        "instant_bookable ,\n",
        "cancellation_policy ,\n",
        "room_type ,\n",
        "construction_year ,\n",
        "price ,\n",
        "service_fee ,\n",
        "minimum_nights ,\n",
        "number_of_reviews ,\n",
        "last_review ,\n",
        "reviews_per_month ,\n",
        "review_rate_number ,\n",
        "calculated_host_listings_count ,\n",
        "availability_365 ,\n",
        "house_rules from airbnb\"\"\")\n",
        "df_filter.registerTempTable(\"airbnb\")"
      ],
      "metadata": {
        "id": "C3xFellSdlyt"
      },
      "execution_count": 16,
      "outputs": []
    },
    {
      "cell_type": "code",
      "source": [
        "import matplotlib.pyplot as plt\n",
        "from pyspark.ml.feature import VectorAssembler\n",
        "from pyspark.ml.stat import Correlation\n",
        "from pyspark.sql.functions import col,lit, udf,when"
      ],
      "metadata": {
        "id": "2FdI0CwFfr1l"
      },
      "execution_count": 17,
      "outputs": []
    },
    {
      "cell_type": "code",
      "source": [
        "# vec_col=df_filter.columns\n",
        "# # vec_col.remove(\"price\")"
      ],
      "metadata": {
        "id": "l2oy_opygN59"
      },
      "execution_count": 18,
      "outputs": []
    },
    {
      "cell_type": "code",
      "source": [
        "# vec_col.remove(\"price\")\n",
        "# vec_col.remove(\"lat\")\n",
        "# vec_col.remove(\"long\")\n",
        "# vec_col.remove(\"construction_year\")\n",
        "# vec_col=vec_col[:-9]"
      ],
      "metadata": {
        "id": "jTu8VuJZi9gG"
      },
      "execution_count": 19,
      "outputs": []
    },
    {
      "cell_type": "code",
      "source": [
        "# vec_index=[i+\"Index\" for i in vec_col]"
      ],
      "metadata": {
        "id": "XKOv0-b8jFLn"
      },
      "execution_count": 20,
      "outputs": []
    },
    {
      "cell_type": "code",
      "source": [
        "df.select(\"neighbourhood_group\").distinct()"
      ],
      "metadata": {
        "id": "IqkjBMoInLjf",
        "colab": {
          "base_uri": "https://localhost:8080/",
          "height": 524
        },
        "outputId": "08312a54-190d-4bda-c7da-4528a6f08ea7"
      },
      "execution_count": 21,
      "outputs": [
        {
          "output_type": "execute_result",
          "data": {
            "text/plain": [
              "+-------------------+\n",
              "|neighbourhood_group|\n",
              "+-------------------+\n",
              "|         Douglaston|\n",
              "|             Queens|\n",
              "|              Nadia|\n",
              "| Financial District|\n",
              "|            Midtown|\n",
              "|    Jackson Heights|\n",
              "|     Hell's Kitchen|\n",
              "|             Sidney|\n",
              "|  Greenwich Village|\n",
              "|            Matthew|\n",
              "|       Clinton Hill|\n",
              "| Washington Heights|\n",
              "|   Ditmars Steinway|\n",
              "|           Longwood|\n",
              "|          Briarwood|\n",
              "|        Little Neck|\n",
              "|      Randall Manor|\n",
              "|           Flushing|\n",
              "|            Norwood|\n",
              "|             Carmen|\n",
              "+-------------------+\n",
              "only showing top 20 rows"
            ],
            "text/html": [
              "<table border='1'>\n",
              "<tr><th>neighbourhood_group</th></tr>\n",
              "<tr><td>Douglaston</td></tr>\n",
              "<tr><td>Queens</td></tr>\n",
              "<tr><td>Nadia</td></tr>\n",
              "<tr><td>Financial District</td></tr>\n",
              "<tr><td>Midtown</td></tr>\n",
              "<tr><td>Jackson Heights</td></tr>\n",
              "<tr><td>Hell&#x27;s Kitchen</td></tr>\n",
              "<tr><td>Sidney</td></tr>\n",
              "<tr><td>Greenwich Village</td></tr>\n",
              "<tr><td>Matthew</td></tr>\n",
              "<tr><td>Clinton Hill</td></tr>\n",
              "<tr><td>Washington Heights</td></tr>\n",
              "<tr><td>Ditmars Steinway</td></tr>\n",
              "<tr><td>Longwood</td></tr>\n",
              "<tr><td>Briarwood</td></tr>\n",
              "<tr><td>Little Neck</td></tr>\n",
              "<tr><td>Randall Manor</td></tr>\n",
              "<tr><td>Flushing</td></tr>\n",
              "<tr><td>Norwood</td></tr>\n",
              "<tr><td>Carmen</td></tr>\n",
              "</table>\n",
              "only showing top 20 rows\n"
            ]
          },
          "metadata": {},
          "execution_count": 21
        }
      ]
    },
    {
      "cell_type": "code",
      "source": [
        "df.select(\"minimum_nights\").distinct().count()"
      ],
      "metadata": {
        "id": "7-Yu0zVUuApW",
        "colab": {
          "base_uri": "https://localhost:8080/"
        },
        "outputId": "dac42b71-23ee-4524-8f6e-5716a4c76dc2"
      },
      "execution_count": 22,
      "outputs": [
        {
          "output_type": "execute_result",
          "data": {
            "text/plain": [
              "95"
            ]
          },
          "metadata": {},
          "execution_count": 22
        }
      ]
    },
    {
      "cell_type": "code",
      "source": [
        "# def latlngfun(lat,lng):\n",
        "#   return lat+','+lng\n",
        "# latlngudf= udf(lambda x,y: latlngfun(x,y) )\n",
        "# df = df.withColumn(\"latlng\", latlngudf(col('lat'),col('long')))\n",
        "# df.select(\"latlng\").distinct().count()"
      ],
      "metadata": {
        "id": "hwtRu8CvuVK6"
      },
      "execution_count": 23,
      "outputs": []
    },
    {
      "cell_type": "code",
      "source": [
        "# df.select(\"latlng\").count()"
      ],
      "metadata": {
        "id": "Vjt9snZuvq5U"
      },
      "execution_count": 24,
      "outputs": []
    },
    {
      "cell_type": "code",
      "source": [
        "# removed corrupted roomtype\n",
        "df=spark.sql(\"select * from airbnb where room_type not in ('flexible','strict','True','False','moderate','Harlem') and room_type not like '%20%' \") "
      ],
      "metadata": {
        "id": "d2owOIThxNWy"
      },
      "execution_count": 25,
      "outputs": []
    },
    {
      "cell_type": "code",
      "source": [
        "# updated > 365 days to 365\n",
        "df= df.withColumn(\"availability_365\", when(col('availability_365')>365,365).otherwise(col('availability_365')))"
      ],
      "metadata": {
        "id": "Y-HRE3t7zGg5"
      },
      "execution_count": 26,
      "outputs": []
    },
    {
      "cell_type": "code",
      "source": [
        "df.filter(\"availability_365 >365\").count()"
      ],
      "metadata": {
        "id": "BftVmIAV068G",
        "colab": {
          "base_uri": "https://localhost:8080/"
        },
        "outputId": "2caf7cd5-da24-4308-9973-b3198352dacb"
      },
      "execution_count": 27,
      "outputs": [
        {
          "output_type": "execute_result",
          "data": {
            "text/plain": [
              "0"
            ]
          },
          "metadata": {},
          "execution_count": 27
        }
      ]
    },
    {
      "cell_type": "code",
      "source": [
        "df.select(\"room_type\").distinct()\n",
        "df_filter=df"
      ],
      "metadata": {
        "id": "vM2voPD5w0Vy"
      },
      "execution_count": 28,
      "outputs": []
    },
    {
      "cell_type": "code",
      "source": [
        "# from pyspark.ml.feature import StringIndexer\n",
        "# name_indexer = StringIndexer(inputCol=\"name\", outputCol=\"nameIndex\")\n",
        "# neighbourhood_group_indexer = StringIndexer(inputCol=\"neighbourhood_group\", outputCol=\"neighbourhood_groupIndex\")\n",
        "# neighbourhood_indexer = StringIndexer(inputCol=\"neighbourhood\", outputCol=\"neighbourhoodIndex\")\n",
        "# instant_bookable_indexer = StringIndexer(inputCol=\"instant_bookable\", outputCol=\"instant_bookableIndex\")\n",
        "# cancellation_policy_indexer = StringIndexer(inputCol=\"cancellation_policy\", outputCol=\"cancellation_policyIndex\")\n",
        "# room_type_indexer = StringIndexer(inputCol=\"room_type\", outputCol=\"room_typeIndex\")"
      ],
      "metadata": {
        "id": "6h3CZ6ryitw_"
      },
      "execution_count": 29,
      "outputs": []
    },
    {
      "cell_type": "code",
      "source": [
        "# df_filter=df_filter.dropna()\n",
        "# df1 = name_indexer.fit(df_filter).transform(df_filter)\n",
        "# df1 = neighbourhood_group_indexer.fit(df1).transform(df1)\n",
        "# df1 = neighbourhood_indexer.fit(df1).transform(df1)\n",
        "# df1 = instant_bookable_indexer.fit(df1).transform(df1)\n",
        "# df1 = cancellation_policy_indexer.fit(df1).transform(df1)\n",
        "# df1 = room_type_indexer.fit(df1).transform(df1)\n",
        "# df1.show()"
      ],
      "metadata": {
        "id": "er0giHN9k-bP"
      },
      "execution_count": 30,
      "outputs": []
    },
    {
      "cell_type": "code",
      "source": [
        "# df_corr=df1.select('nameIndex' ,\n",
        "# 'neighbourhood_groupIndex' ,\n",
        "# 'neighbourhoodIndex' ,\n",
        "# 'instant_bookableIndex' ,\n",
        "# 'cancellation_policyIndex' ,\n",
        "# 'room_typeIndex',\"price\",\"construction_year\")"
      ],
      "metadata": {
        "id": "S0-gzH1LlfVZ"
      },
      "execution_count": 31,
      "outputs": []
    },
    {
      "cell_type": "code",
      "source": [
        "# spark.sql(\"select count(distinct neighbourhood) from airbnb\")"
      ],
      "metadata": {
        "id": "xFTy9XyZgLll"
      },
      "execution_count": 32,
      "outputs": []
    },
    {
      "cell_type": "code",
      "source": [
        "# df_corr.select(\"neighbourhoodIndex\").distinct()"
      ],
      "metadata": {
        "id": "IO2a-HommdbP"
      },
      "execution_count": 33,
      "outputs": []
    },
    {
      "cell_type": "code",
      "source": [
        "# import matplotlib.pyplot as plt\n",
        "# from pyspark.ml.feature import VectorAssembler\n",
        "# from pyspark.ml.stat import Correlation\n",
        "# df_corr=df_corr.dropna()\n",
        "# columns = ['nameIndex' ,\n",
        "# 'neighbourhood_groupIndex' ,\n",
        "# 'neighbourhoodIndex' ,\n",
        "# 'instant_bookableIndex' ,\n",
        "# 'cancellation_policyIndex' ,\n",
        "# 'room_typeIndex',\"price\",\"construction_year\"]\n",
        "\n",
        "# vector_col = \"corr_features\"\n",
        "# assembler = VectorAssembler(inputCols=columns, \n",
        "#                             outputCol=vector_col)\n",
        "# myGraph_vector = assembler.transform(df_corr).select(vector_col)\n",
        "# matrix = Correlation.corr(myGraph_vector, vector_col)"
      ],
      "metadata": {
        "id": "Po5NRVbNpT4_"
      },
      "execution_count": 34,
      "outputs": []
    },
    {
      "cell_type": "code",
      "source": [
        "# matrix = Correlation.corr(myGraph_vector, vector_col).collect()[0][0]\n",
        "# corrmatrix = matrix.toArray().tolist()\n",
        "# print(corrmatrix)"
      ],
      "metadata": {
        "id": "y4u05F0Zp5Lw"
      },
      "execution_count": 35,
      "outputs": []
    },
    {
      "cell_type": "code",
      "source": [
        "# from pyspark.sql.types import DoubleType\n",
        "\n",
        "# df_corr= df_corr.withColumn(\"price\",df_corr['price'].cast(DoubleType()))\n",
        "# df_corr= df_corr.withColumn(\"construction_year\",df_corr['construction_year'].cast(DoubleType()))"
      ],
      "metadata": {
        "id": "RBVVkyDfn1Rf"
      },
      "execution_count": 36,
      "outputs": []
    },
    {
      "cell_type": "code",
      "source": [
        "# df_corr.corr(\"construction_year\",\"price\")"
      ],
      "metadata": {
        "id": "9wzZRhjOoOcH"
      },
      "execution_count": 37,
      "outputs": []
    },
    {
      "cell_type": "code",
      "source": [
        "# df_corr"
      ],
      "metadata": {
        "id": "Rq7a4o8OqTKY"
      },
      "execution_count": 38,
      "outputs": []
    },
    {
      "cell_type": "code",
      "source": [
        "# #correlation chart\n",
        "# def plot_corr_matrix(correlations,attr,fig_no):\n",
        "#     fig=plt.figure(fig_no)\n",
        "#     ax=fig.add_subplot(111)\n",
        "#     ax.set_title(\"Correlation Matrix for Specified Attributes\")\n",
        "#     ax.set_xticklabels(['']+attr)\n",
        "#     ax.set_yticklabels(['']+attr)\n",
        "#     cax=ax.matshow(correlations,vmax=1,vmin=-1)\n",
        "#     fig.colorbar(cax)\n",
        "#     plt.show()\n",
        "\n",
        "# plot_corr_matrix(corrmatrix, columns, 290)"
      ],
      "metadata": {
        "id": "khw9RGnUcTgt"
      },
      "execution_count": 39,
      "outputs": []
    },
    {
      "cell_type": "code",
      "source": [
        "df_filter.dropna()\n",
        "df_pandas=df_filter.toPandas()\n",
        "df_pandas=df_pandas.drop('name',axis=1)"
      ],
      "metadata": {
        "id": "A-yzwYz--0Ms"
      },
      "execution_count": 40,
      "outputs": []
    },
    {
      "cell_type": "code",
      "source": [
        "df_pandas.info()"
      ],
      "metadata": {
        "id": "1QvXCHLajG7Y",
        "colab": {
          "base_uri": "https://localhost:8080/"
        },
        "outputId": "78c0a680-5f4a-4aa7-81c1-02ad4bbdfa11"
      },
      "execution_count": 41,
      "outputs": [
        {
          "output_type": "stream",
          "name": "stdout",
          "text": [
            "<class 'pandas.core.frame.DataFrame'>\n",
            "RangeIndex: 69048 entries, 0 to 69047\n",
            "Data columns (total 18 columns):\n",
            " #   Column                          Non-Null Count  Dtype \n",
            "---  ------                          --------------  ----- \n",
            " 0   neighbourhood_group             69048 non-null  object\n",
            " 1   neighbourhood                   69048 non-null  object\n",
            " 2   lat                             69048 non-null  object\n",
            " 3   long                            69048 non-null  object\n",
            " 4   instant_bookable                69048 non-null  object\n",
            " 5   cancellation_policy             69048 non-null  object\n",
            " 6   room_type                       69048 non-null  object\n",
            " 7   construction_year               69048 non-null  object\n",
            " 8   price                           69048 non-null  object\n",
            " 9   service_fee                     69048 non-null  object\n",
            " 10  minimum_nights                  69048 non-null  object\n",
            " 11  number_of_reviews               69048 non-null  object\n",
            " 12  last_review                     69048 non-null  object\n",
            " 13  reviews_per_month               69048 non-null  object\n",
            " 14  review_rate_number              69048 non-null  object\n",
            " 15  calculated_host_listings_count  69048 non-null  object\n",
            " 16  availability_365                69048 non-null  object\n",
            " 17  house_rules                     69048 non-null  object\n",
            "dtypes: object(18)\n",
            "memory usage: 9.5+ MB\n"
          ]
        }
      ]
    },
    {
      "cell_type": "code",
      "source": [
        "import numpy as np"
      ],
      "metadata": {
        "id": "ZKfVVBZjDjXR"
      },
      "execution_count": 42,
      "outputs": []
    },
    {
      "cell_type": "code",
      "source": [
        "df_pandas['long2']=df_pandas['long'].apply(lambda x:x[:6] if x != None else None)\n",
        "df_pandas['lat2']=df_pandas['lat'].apply(lambda x:x[:6] if x != None else None)\n",
        "df_pandas=df_pandas.sort_values(by=['lat','long'])\n",
        "df_pandas['lat2']=df_pandas['lat2'].astype(float)\n",
        "df_pandas['long2']=df_pandas['long2'].astype(float)\n",
        "# df_pandas['lat'] = df_pandas['lat'] / 10.**7\n",
        "# df_pandas['long'] = df_pandas['long'] / 10.**7\n",
        "df_coords=df_pandas[['lat2','long2']]\n",
        "df_coords=df_coords.astype(float)\n",
        "df_coords=df_coords.drop_duplicates()"
      ],
      "metadata": {
        "id": "_DvMbS1tFDNZ"
      },
      "execution_count": 43,
      "outputs": []
    },
    {
      "cell_type": "code",
      "source": [
        "from sklearn.cluster import DBSCAN\n",
        "import pandas as pd, numpy as np, matplotlib.pyplot as plt, time\n",
        "kms_per_radian = 6371.0088\n",
        "df_pandas=df_pandas.sort_values(by=['lat','long'])\n",
        "\n",
        "# df_coords=df_pandas[['lat2','long2']]\n",
        "# df_coords=df_coords.astype(float)\n",
        "# df_coords.unique\n",
        "# df_coords=df_coords.to_numpy()\n",
        "# ax = df_pandas.plot(kind='scatter', x='long', y='lat', alpha=0.5, linewidth=0)\n",
        "epsilon = 10 / kms_per_radian\n",
        "start_time = time.time()\n",
        "db = DBSCAN(eps=2/kms_per_radian, min_samples=10, algorithm='ball_tree', metric='haversine').fit(np.radians(df_coords))\n",
        "cluster_labels = db.labels_\n",
        "num_clusters = len(set(cluster_labels))\n",
        "unique_labels = set(cluster_labels)\n",
        "clusters = pd.Series([df_coords[cluster_labels == n] for n in range(num_clusters)])\n",
        "print('Number of clusters: {}'.format(num_clusters))\n",
        "\n",
        "# get the number of clusters\n",
        "num_clusters = len(set(cluster_labels))"
      ],
      "metadata": {
        "id": "AQA3uTiiCDK2",
        "colab": {
          "base_uri": "https://localhost:8080/"
        },
        "outputId": "ac154343-9b19-4d3e-fe4f-48efa998fb25"
      },
      "execution_count": 44,
      "outputs": [
        {
          "output_type": "stream",
          "name": "stdout",
          "text": [
            "Number of clusters: 5\n"
          ]
        }
      ]
    },
    {
      "cell_type": "code",
      "source": [
        "clusters=clusters.iloc[:-1]\n"
      ],
      "metadata": {
        "id": "HXUehcIFXjx0"
      },
      "execution_count": 45,
      "outputs": []
    },
    {
      "cell_type": "code",
      "source": [
        "from geopy.distance import great_circle\n",
        "from shapely.geometry import MultiPoint\n",
        "clusters=clusters.iloc[:-1]\n",
        "def get_centermost_point(cluster):\n",
        "    # print(MultiPoint(cluster).centroid.)\n",
        "    # print(cluster.to_numpy())\n",
        "    centroid = (MultiPoint(cluster.to_numpy()).centroid.x, MultiPoint(cluster.to_numpy()).centroid.y)\n",
        "    # print(centroid)\n",
        "    centermost_point = min(cluster.to_numpy(), key=lambda point: great_circle(point, centroid).m)\n",
        "    return tuple(centermost_point)\n",
        "centermost_points = clusters.map(get_centermost_point)\n"
      ],
      "metadata": {
        "id": "F_Zu2fHQQ7Lp"
      },
      "execution_count": 46,
      "outputs": []
    },
    {
      "cell_type": "code",
      "source": [
        "centermost_points\n",
        "lats, lons = zip(*centermost_points)\n",
        "rep_points = pd.DataFrame({\"long2\":lons, \"lat2\":lats})\n",
        "rep_points.tail()\n",
        "\n",
        "# pull row from original data set where lat/lon match the lat/lon of each row of representative points\n",
        "rs = rep_points.apply(lambda row: df_coords[(df_coords['lat2']==row['lat2']) & (df_coords['long2']==row['long2'])].iloc[0], axis=1)"
      ],
      "metadata": {
        "id": "kdkg2RiMUMJ_"
      },
      "execution_count": 47,
      "outputs": []
    },
    {
      "cell_type": "code",
      "source": [
        "sample_rate = 1\n",
        "df_sampled = df_pandas.iloc[range(0, len(df_pandas), sample_rate)]"
      ],
      "metadata": {
        "id": "e-6GxP9xZvqE"
      },
      "execution_count": 48,
      "outputs": []
    },
    {
      "cell_type": "code",
      "source": [
        "df_combined = pd.concat([rs, df_sampled], axis=0)\n",
        "df_combined = df_combined.reset_index().drop(labels='index', axis=1)"
      ],
      "metadata": {
        "id": "mIubDhgdaHMs"
      },
      "execution_count": 49,
      "outputs": []
    },
    {
      "cell_type": "code",
      "source": [
        "# fig, ax = plt.subplots()\n",
        "# colors = plt.cm.CMRmap(np.linspace(0, 1, len(unique_labels)))\n",
        "# # colors=colors.reshape(1,-1)\n",
        "# # colors= plt.cm.nipy_spectral(float(i) / unique_labels).reshape(1,-1)\n",
        "# for cluster_label, color in zip(unique_labels, colors):\n",
        "\n",
        "#     size = 150\n",
        "#     if cluster_label == -1: #make the noise (which is labeled -1) appear as smaller gray points\n",
        "#         color = 'gray'\n",
        "#         size = 30\n",
        "\n",
        "#     # plot the points that match the current cluster label\n",
        "#     # X.iloc[:-1]\n",
        "#     # df.iloc[:, 0]\n",
        "#     x_coords = df_coords.iloc[:, 0]\n",
        "#     y_coords = df_coords.iloc[:, 1]\n",
        "#     ax.scatter(x=x_coords, y=y_coords, c=color, edgecolor='k', s=size, alpha=0.5)\n",
        "\n",
        "# ax.set_title('Number of clusters: {}'.format(num_clusters))\n",
        "# plt.show()"
      ],
      "metadata": {
        "id": "lOGsfpXkIXNo"
      },
      "execution_count": 50,
      "outputs": []
    },
    {
      "cell_type": "code",
      "source": [
        "df_combined.to_csv(\"/content/airbnb_geocoded.csv\")"
      ],
      "metadata": {
        "id": "wMUElnQJGu_a"
      },
      "execution_count": 51,
      "outputs": []
    },
    {
      "cell_type": "code",
      "source": [
        "# import geopy\n",
        "# def get_zipcode(df, geolocator, lat_field, lon_field):\n",
        "#     try:\n",
        "#       location = geolocator.reverse((df[lat_field], df[lon_field]))\n",
        "#     # print(True if 'postcode' in location.raw['address'] else False)\n",
        "#       if 'postcode' in location.raw:\n",
        "#         return location.raw['address']['postcode']\n",
        "#       else:\n",
        "#         return None\n",
        "#     except:\n",
        "#       return None\n",
        "\n",
        "# geolocator = geopy.Nominatim(user_agent='my-application')\n",
        "# df_pandas['zipcodes'] = df_zipcode.apply(get_zipcode, axis=1, geolocator=geolocator, lat_field='lat2', lon_field='long2')\n"
      ],
      "metadata": {
        "id": "OleFSQLjDPQX"
      },
      "execution_count": 52,
      "outputs": []
    },
    {
      "cell_type": "code",
      "source": [
        "df_pandas.to_csv(\"/content/airbnb.csv\")"
      ],
      "metadata": {
        "id": "lnV04eXyGe6w"
      },
      "execution_count": 53,
      "outputs": []
    },
    {
      "cell_type": "code",
      "source": [
        "from sklearn.model_selection import train_test_split\n",
        "from sklearn.preprocessing import LabelEncoder, OneHotEncoder"
      ],
      "metadata": {
        "id": "hPW9o88N_Adg"
      },
      "execution_count": 54,
      "outputs": []
    },
    {
      "cell_type": "code",
      "source": [
        "df_combined2=df_combined.dropna()\n",
        "df_combined2=df_combined2.drop('lat',axis=1)\n",
        "df_combined2=df_combined2.drop('long',axis=1)\n",
        "df_combined2['latlng']=df_combined2.apply(lambda x: str(x['lat2'])+str(',')+str(x['long2']),axis=1)\n",
        "df_combined2=df_combined2.drop('lat2',axis=1)\n",
        "df_combined2=df_combined2.drop('long2',axis=1)\n",
        "df_combined2=df_combined2.drop('last_review',axis=1)\n",
        "df_combined2=df_combined2.drop('house_rules',axis=1)\n",
        "Y = df_combined2['price']\n",
        "X= df_combined2.drop('price', axis=1)\n",
        "lb=LabelEncoder()\n",
        "for i in [\"latlng\", \"neighbourhood_group\", \"neighbourhood\",\"instant_bookable\",\"cancellation_policy\",\"room_type\",\"construction_year\"]:\n",
        "  X[i]= lb.fit_transform(X[i])"
      ],
      "metadata": {
        "id": "zA9IiBWz_U1r"
      },
      "execution_count": 55,
      "outputs": []
    },
    {
      "cell_type": "code",
      "source": [
        "x_train,x_test,y_train,y_test = train_test_split(X,Y,test_size=0.25, random_state=50)\n"
      ],
      "metadata": {
        "id": "CUuSkU2t_p4J"
      },
      "execution_count": 56,
      "outputs": []
    },
    {
      "cell_type": "code",
      "source": [
        "from sklearn.ensemble import RandomForestRegressor\n",
        "rf=RandomForestRegressor()\n",
        "rf.fit(x_train,y_train)"
      ],
      "metadata": {
        "id": "xuRGWZI_CZJR",
        "colab": {
          "base_uri": "https://localhost:8080/"
        },
        "outputId": "1e6d4af9-6bfa-4a59-8930-3ffa559177c7"
      },
      "execution_count": 57,
      "outputs": [
        {
          "output_type": "execute_result",
          "data": {
            "text/plain": [
              "RandomForestRegressor()"
            ]
          },
          "metadata": {},
          "execution_count": 57
        }
      ]
    },
    {
      "cell_type": "code",
      "source": [
        "from sklearn.metrics import mean_absolute_percentage_error\n",
        "y_predict= rf.predict(x_test)\n",
        "mean_absolute_percentage_error(y_pred=y_predict,y_true=y_test)"
      ],
      "metadata": {
        "colab": {
          "base_uri": "https://localhost:8080/"
        },
        "id": "hBs-FH_nq-ul",
        "outputId": "b0d57e19-c9a0-41ff-9f77-e50577b9b5c9"
      },
      "execution_count": 58,
      "outputs": [
        {
          "output_type": "execute_result",
          "data": {
            "text/plain": [
              "0.012555444253500829"
            ]
          },
          "metadata": {},
          "execution_count": 58
        }
      ]
    },
    {
      "cell_type": "code",
      "source": [
        "from sklearn.preprocessing import PolynomialFeatures\n",
        "from sklearn.linear_model import LinearRegression\n",
        "pr = PolynomialFeatures(degree=4)\n",
        "x_p=pr.fit_transform(x_train)\n",
        "l=LinearRegression()\n",
        "l=l.fit(x_p,y_train)"
      ],
      "metadata": {
        "id": "piEC4ZNswV00"
      },
      "execution_count": 59,
      "outputs": []
    },
    {
      "cell_type": "code",
      "source": [
        "from sklearn.metrics import mean_absolute_percentage_error\n",
        "x_pt=pr.transform(x_test)\n",
        "y_predict= l.predict(x_pt)\n",
        "mean_absolute_percentage_error(y_pred=y_predict,y_true=y_test)"
      ],
      "metadata": {
        "colab": {
          "base_uri": "https://localhost:8080/"
        },
        "id": "NNjiBhR5xDPv",
        "outputId": "d7b523b0-3c2d-4b9b-81b6-0e4daac8f192"
      },
      "execution_count": 60,
      "outputs": [
        {
          "output_type": "execute_result",
          "data": {
            "text/plain": [
              "0.02440725605114372"
            ]
          },
          "metadata": {},
          "execution_count": 60
        }
      ]
    },
    {
      "cell_type": "code",
      "source": [
        "\n",
        "from sklearn.linear_model import Ridge\n",
        "from sklearn.pipeline import make_pipeline\n",
        "from sklearn.preprocessing import StandardScaler\n",
        "pipeline = make_pipeline(StandardScaler(), Ridge(alpha=1.0))\n",
        "pipeline.fit(X_train, y_train)"
      ],
      "metadata": {
        "id": "GETMvSwuj9TL",
        "colab": {
          "base_uri": "https://localhost:8080/",
          "height": 205
        },
        "outputId": "0068b1b5-cbb4-4222-81f2-50e988ecd976"
      },
      "execution_count": 61,
      "outputs": [
        {
          "output_type": "error",
          "ename": "NameError",
          "evalue": "ignored",
          "traceback": [
            "\u001b[0;31m---------------------------------------------------------------------------\u001b[0m",
            "\u001b[0;31mNameError\u001b[0m                                 Traceback (most recent call last)",
            "\u001b[0;32m<ipython-input-61-dc389f1c3271>\u001b[0m in \u001b[0;36m<module>\u001b[0;34m\u001b[0m\n\u001b[1;32m      3\u001b[0m \u001b[0;32mfrom\u001b[0m \u001b[0msklearn\u001b[0m\u001b[0;34m.\u001b[0m\u001b[0mpreprocessing\u001b[0m \u001b[0;32mimport\u001b[0m \u001b[0mStandardScaler\u001b[0m\u001b[0;34m\u001b[0m\u001b[0;34m\u001b[0m\u001b[0m\n\u001b[1;32m      4\u001b[0m \u001b[0mpipeline\u001b[0m \u001b[0;34m=\u001b[0m \u001b[0mmake_pipeline\u001b[0m\u001b[0;34m(\u001b[0m\u001b[0mStandardScaler\u001b[0m\u001b[0;34m(\u001b[0m\u001b[0;34m)\u001b[0m\u001b[0;34m,\u001b[0m \u001b[0mRidge\u001b[0m\u001b[0;34m(\u001b[0m\u001b[0malpha\u001b[0m\u001b[0;34m=\u001b[0m\u001b[0;36m1.0\u001b[0m\u001b[0;34m)\u001b[0m\u001b[0;34m)\u001b[0m\u001b[0;34m\u001b[0m\u001b[0;34m\u001b[0m\u001b[0m\n\u001b[0;32m----> 5\u001b[0;31m \u001b[0mpipeline\u001b[0m\u001b[0;34m.\u001b[0m\u001b[0mfit\u001b[0m\u001b[0;34m(\u001b[0m\u001b[0mX_train\u001b[0m\u001b[0;34m,\u001b[0m \u001b[0my_train\u001b[0m\u001b[0;34m)\u001b[0m\u001b[0;34m\u001b[0m\u001b[0;34m\u001b[0m\u001b[0m\n\u001b[0m",
            "\u001b[0;31mNameError\u001b[0m: name 'X_train' is not defined"
          ]
        }
      ]
    },
    {
      "cell_type": "code",
      "source": [
        "from sklearn.metrics import mean_absolute_percentage_error\n",
        "y_predict= pipeline.predict(x_test)\n",
        "mean_absolute_percentage_error(y_pred=y_predict,y_true=y_test)"
      ],
      "metadata": {
        "id": "jJ8nZKpJkKVX",
        "colab": {
          "base_uri": "https://localhost:8080/",
          "height": 355
        },
        "outputId": "29c5a719-23a0-4f94-b35a-a8d2257fecfb"
      },
      "execution_count": 62,
      "outputs": [
        {
          "output_type": "error",
          "ename": "NotFittedError",
          "evalue": "ignored",
          "traceback": [
            "\u001b[0;31m---------------------------------------------------------------------------\u001b[0m",
            "\u001b[0;31mNotFittedError\u001b[0m                            Traceback (most recent call last)",
            "\u001b[0;32m<ipython-input-62-c5e47f3db481>\u001b[0m in \u001b[0;36m<module>\u001b[0;34m\u001b[0m\n\u001b[1;32m      1\u001b[0m \u001b[0;32mfrom\u001b[0m \u001b[0msklearn\u001b[0m\u001b[0;34m.\u001b[0m\u001b[0mmetrics\u001b[0m \u001b[0;32mimport\u001b[0m \u001b[0mmean_absolute_percentage_error\u001b[0m\u001b[0;34m\u001b[0m\u001b[0;34m\u001b[0m\u001b[0m\n\u001b[0;32m----> 2\u001b[0;31m \u001b[0my_predict\u001b[0m\u001b[0;34m=\u001b[0m \u001b[0mpipeline\u001b[0m\u001b[0;34m.\u001b[0m\u001b[0mpredict\u001b[0m\u001b[0;34m(\u001b[0m\u001b[0mx_test\u001b[0m\u001b[0;34m)\u001b[0m\u001b[0;34m\u001b[0m\u001b[0;34m\u001b[0m\u001b[0m\n\u001b[0m\u001b[1;32m      3\u001b[0m \u001b[0mmean_absolute_percentage_error\u001b[0m\u001b[0;34m(\u001b[0m\u001b[0my_pred\u001b[0m\u001b[0;34m=\u001b[0m\u001b[0my_predict\u001b[0m\u001b[0;34m,\u001b[0m\u001b[0my_true\u001b[0m\u001b[0;34m=\u001b[0m\u001b[0my_test\u001b[0m\u001b[0;34m)\u001b[0m\u001b[0;34m\u001b[0m\u001b[0;34m\u001b[0m\u001b[0m\n",
            "\u001b[0;32m/usr/local/lib/python3.7/dist-packages/sklearn/utils/metaestimators.py\u001b[0m in \u001b[0;36m<lambda>\u001b[0;34m(*args, **kwargs)\u001b[0m\n\u001b[1;32m    111\u001b[0m \u001b[0;34m\u001b[0m\u001b[0m\n\u001b[1;32m    112\u001b[0m             \u001b[0;31m# lambda, but not partial, allows help() to work with update_wrapper\u001b[0m\u001b[0;34m\u001b[0m\u001b[0;34m\u001b[0m\u001b[0;34m\u001b[0m\u001b[0m\n\u001b[0;32m--> 113\u001b[0;31m             \u001b[0mout\u001b[0m \u001b[0;34m=\u001b[0m \u001b[0;32mlambda\u001b[0m \u001b[0;34m*\u001b[0m\u001b[0margs\u001b[0m\u001b[0;34m,\u001b[0m \u001b[0;34m**\u001b[0m\u001b[0mkwargs\u001b[0m\u001b[0;34m:\u001b[0m \u001b[0mself\u001b[0m\u001b[0;34m.\u001b[0m\u001b[0mfn\u001b[0m\u001b[0;34m(\u001b[0m\u001b[0mobj\u001b[0m\u001b[0;34m,\u001b[0m \u001b[0;34m*\u001b[0m\u001b[0margs\u001b[0m\u001b[0;34m,\u001b[0m \u001b[0;34m**\u001b[0m\u001b[0mkwargs\u001b[0m\u001b[0;34m)\u001b[0m  \u001b[0;31m# noqa\u001b[0m\u001b[0;34m\u001b[0m\u001b[0;34m\u001b[0m\u001b[0m\n\u001b[0m\u001b[1;32m    114\u001b[0m         \u001b[0;32melse\u001b[0m\u001b[0;34m:\u001b[0m\u001b[0;34m\u001b[0m\u001b[0;34m\u001b[0m\u001b[0m\n\u001b[1;32m    115\u001b[0m \u001b[0;34m\u001b[0m\u001b[0m\n",
            "\u001b[0;32m/usr/local/lib/python3.7/dist-packages/sklearn/pipeline.py\u001b[0m in \u001b[0;36mpredict\u001b[0;34m(self, X, **predict_params)\u001b[0m\n\u001b[1;32m    467\u001b[0m         \u001b[0mXt\u001b[0m \u001b[0;34m=\u001b[0m \u001b[0mX\u001b[0m\u001b[0;34m\u001b[0m\u001b[0;34m\u001b[0m\u001b[0m\n\u001b[1;32m    468\u001b[0m         \u001b[0;32mfor\u001b[0m \u001b[0m_\u001b[0m\u001b[0;34m,\u001b[0m \u001b[0mname\u001b[0m\u001b[0;34m,\u001b[0m \u001b[0mtransform\u001b[0m \u001b[0;32min\u001b[0m \u001b[0mself\u001b[0m\u001b[0;34m.\u001b[0m\u001b[0m_iter\u001b[0m\u001b[0;34m(\u001b[0m\u001b[0mwith_final\u001b[0m\u001b[0;34m=\u001b[0m\u001b[0;32mFalse\u001b[0m\u001b[0;34m)\u001b[0m\u001b[0;34m:\u001b[0m\u001b[0;34m\u001b[0m\u001b[0;34m\u001b[0m\u001b[0m\n\u001b[0;32m--> 469\u001b[0;31m             \u001b[0mXt\u001b[0m \u001b[0;34m=\u001b[0m \u001b[0mtransform\u001b[0m\u001b[0;34m.\u001b[0m\u001b[0mtransform\u001b[0m\u001b[0;34m(\u001b[0m\u001b[0mXt\u001b[0m\u001b[0;34m)\u001b[0m\u001b[0;34m\u001b[0m\u001b[0;34m\u001b[0m\u001b[0m\n\u001b[0m\u001b[1;32m    470\u001b[0m         \u001b[0;32mreturn\u001b[0m \u001b[0mself\u001b[0m\u001b[0;34m.\u001b[0m\u001b[0msteps\u001b[0m\u001b[0;34m[\u001b[0m\u001b[0;34m-\u001b[0m\u001b[0;36m1\u001b[0m\u001b[0;34m]\u001b[0m\u001b[0;34m[\u001b[0m\u001b[0;36m1\u001b[0m\u001b[0;34m]\u001b[0m\u001b[0;34m.\u001b[0m\u001b[0mpredict\u001b[0m\u001b[0;34m(\u001b[0m\u001b[0mXt\u001b[0m\u001b[0;34m,\u001b[0m \u001b[0;34m**\u001b[0m\u001b[0mpredict_params\u001b[0m\u001b[0;34m)\u001b[0m\u001b[0;34m\u001b[0m\u001b[0;34m\u001b[0m\u001b[0m\n\u001b[1;32m    471\u001b[0m \u001b[0;34m\u001b[0m\u001b[0m\n",
            "\u001b[0;32m/usr/local/lib/python3.7/dist-packages/sklearn/preprocessing/_data.py\u001b[0m in \u001b[0;36mtransform\u001b[0;34m(self, X, copy)\u001b[0m\n\u001b[1;32m    968\u001b[0m             \u001b[0mTransformed\u001b[0m \u001b[0marray\u001b[0m\u001b[0;34m.\u001b[0m\u001b[0;34m\u001b[0m\u001b[0;34m\u001b[0m\u001b[0m\n\u001b[1;32m    969\u001b[0m         \"\"\"\n\u001b[0;32m--> 970\u001b[0;31m         \u001b[0mcheck_is_fitted\u001b[0m\u001b[0;34m(\u001b[0m\u001b[0mself\u001b[0m\u001b[0;34m)\u001b[0m\u001b[0;34m\u001b[0m\u001b[0;34m\u001b[0m\u001b[0m\n\u001b[0m\u001b[1;32m    971\u001b[0m \u001b[0;34m\u001b[0m\u001b[0m\n\u001b[1;32m    972\u001b[0m         \u001b[0mcopy\u001b[0m \u001b[0;34m=\u001b[0m \u001b[0mcopy\u001b[0m \u001b[0;32mif\u001b[0m \u001b[0mcopy\u001b[0m \u001b[0;32mis\u001b[0m \u001b[0;32mnot\u001b[0m \u001b[0;32mNone\u001b[0m \u001b[0;32melse\u001b[0m \u001b[0mself\u001b[0m\u001b[0;34m.\u001b[0m\u001b[0mcopy\u001b[0m\u001b[0;34m\u001b[0m\u001b[0;34m\u001b[0m\u001b[0m\n",
            "\u001b[0;32m/usr/local/lib/python3.7/dist-packages/sklearn/utils/validation.py\u001b[0m in \u001b[0;36mcheck_is_fitted\u001b[0;34m(estimator, attributes, msg, all_or_any)\u001b[0m\n\u001b[1;32m   1220\u001b[0m \u001b[0;34m\u001b[0m\u001b[0m\n\u001b[1;32m   1221\u001b[0m     \u001b[0;32mif\u001b[0m \u001b[0;32mnot\u001b[0m \u001b[0mfitted\u001b[0m\u001b[0;34m:\u001b[0m\u001b[0;34m\u001b[0m\u001b[0;34m\u001b[0m\u001b[0m\n\u001b[0;32m-> 1222\u001b[0;31m         \u001b[0;32mraise\u001b[0m \u001b[0mNotFittedError\u001b[0m\u001b[0;34m(\u001b[0m\u001b[0mmsg\u001b[0m \u001b[0;34m%\u001b[0m \u001b[0;34m{\u001b[0m\u001b[0;34m\"name\"\u001b[0m\u001b[0;34m:\u001b[0m \u001b[0mtype\u001b[0m\u001b[0;34m(\u001b[0m\u001b[0mestimator\u001b[0m\u001b[0;34m)\u001b[0m\u001b[0;34m.\u001b[0m\u001b[0m__name__\u001b[0m\u001b[0;34m}\u001b[0m\u001b[0;34m)\u001b[0m\u001b[0;34m\u001b[0m\u001b[0;34m\u001b[0m\u001b[0m\n\u001b[0m\u001b[1;32m   1223\u001b[0m \u001b[0;34m\u001b[0m\u001b[0m\n\u001b[1;32m   1224\u001b[0m \u001b[0;34m\u001b[0m\u001b[0m\n",
            "\u001b[0;31mNotFittedError\u001b[0m: This StandardScaler instance is not fitted yet. Call 'fit' with appropriate arguments before using this estimator."
          ]
        }
      ]
    },
    {
      "cell_type": "code",
      "source": [
        "from google.colab import drive\n",
        "drive.mount('/content/drive')"
      ],
      "metadata": {
        "id": "-6wZBFailO6h"
      },
      "execution_count": null,
      "outputs": []
    },
    {
      "cell_type": "code",
      "source": [
        "y_predict"
      ],
      "metadata": {
        "colab": {
          "base_uri": "https://localhost:8080/"
        },
        "id": "-5EI7kkssCFC",
        "outputId": "cdf631e5-345d-407e-8857-7efdeedce4cc"
      },
      "execution_count": null,
      "outputs": [
        {
          "output_type": "execute_result",
          "data": {
            "text/plain": [
              "array([1135.36,  194.66,  355.11, ..., 1039.29,  160.46,  305.48])"
            ]
          },
          "metadata": {},
          "execution_count": 277
        }
      ]
    },
    {
      "cell_type": "code",
      "source": [
        "# x_train[[\"latlng\", \"neighbourhood_group\", \"neighbourhood\",\"instant_bookable\",\"cancellation_policy\",\"room_type\",\"construction_year\",\"house_rules\"]].values"
      ],
      "metadata": {
        "colab": {
          "base_uri": "https://localhost:8080/"
        },
        "id": "tgttvrqYpF2D",
        "outputId": "a37a63b3-78fe-476c-cdb6-cdb09abf2b8f"
      },
      "execution_count": null,
      "outputs": [
        {
          "output_type": "execute_result",
          "data": {
            "text/plain": [
              "array([['40.675,-73.94', 'Brooklyn', 'Crown Heights', ...,\n",
              "        'Private room', '2006.0', 'blank'],\n",
              "       ['40.626,-74.07', 'Staten Island', 'Stapleton', ...,\n",
              "        'Private room', '2014.0', 'blank'],\n",
              "       ['40.739,-74.0', 'Manhattan', 'Chelsea', ..., 'Entire home/apt',\n",
              "        '2010.0',\n",
              "        'Please be respectful of other guests.  Keep the common areas clean and pick up after your self.  No loud music after 10 pm.  No pets. It is a safe neighborhood but please, keep doors locked for safety No smoking in the house (smoking is allowed on the front or back decks).'],\n",
              "       ...,\n",
              "       ['40.755,-73.99', 'Manhattan', \"Hell's Kitchen\", ...,\n",
              "        'Private room', '2012.0', 'blank'],\n",
              "       ['40.699,-73.93', 'Brooklyn', 'Bushwick', ..., 'Private room',\n",
              "        '2012.0', 'Please keep premises clean.'],\n",
              "       ['40.683,-73.92', 'Brooklyn', 'Bedford-Stuyvesant', ...,\n",
              "        'Private room', '2005.0',\n",
              "        'Professional building, please be considerate of other residents in the building. This is not a place for parties.']],\n",
              "      dtype=object)"
            ]
          },
          "metadata": {},
          "execution_count": 261
        }
      ]
    },
    {
      "cell_type": "code",
      "source": [
        "\n",
        "from sklearn.model_selection import train_test_split, GridSearchCV\n",
        "from sklearn.preprocessing import StandardScaler, PolynomialFeatures\n",
        "from sklearn.linear_model import LinearRegression, Lasso\n",
        "from sklearn.metrics import mean_squared_error\n",
        "from sklearn.pipeline import Pipeline\n",
        "from scipy import stats"
      ],
      "metadata": {
        "id": "AcazCPDUpZIQ"
      },
      "execution_count": null,
      "outputs": []
    },
    {
      "cell_type": "code",
      "source": [
        "pipe_steps = [('Scaling', StandardScaler()), ('Polynomial Features', PolynomialFeatures(include_bias=False)), ('Lasso Linear Regression', Lasso())]\n",
        "pipeline = Pipeline(pipe_steps)\n",
        "pipeline.fit(x_train, y_train)\n",
        "from sklearn.metrics import mean_absolute_percentage_error\n",
        "y_predict= pipeline.predict(x_test)\n",
        "mean_absolute_percentage_error(y_pred=y_predict,y_true=y_test)\n"
      ],
      "metadata": {
        "id": "HF5qZ6kDq3UI"
      },
      "execution_count": null,
      "outputs": []
    }
  ]
}